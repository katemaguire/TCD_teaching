{
 "cells": [
  {
   "cell_type": "markdown",
   "metadata": {
    "tags": []
   },
   "source": [
    "## Example notebook with tips for assignment 1 of PYU33A03 Stellar Structure\n",
    "\n",
    "This notebook gives a brief overview to two modules that are very handy in Python: `numpy` and `matplotlib`. \n",
    "\n",
    "You can find documenation at [numpy](https://numpy.org/) and [matplotlib](https://matplotlib.org/).\n"
   ]
  },
  {
   "cell_type": "markdown",
   "metadata": {
    "tags": []
   },
   "source": [
    "### Creating arrays with numpy\n",
    "\n",
    "[numpy](https://numpy.org/) allows us to create and manipulate arrays of numbers."
   ]
  },
  {
   "cell_type": "code",
   "execution_count": 10,
   "metadata": {},
   "outputs": [
    {
     "name": "stdout",
     "output_type": "stream",
     "text": [
      "[0 1 2 3 4 5 6 7 8 9]\n",
      "[0 1 2]\n",
      "[2. 3. 4. 5. 6. 7. 8. 9.]\n",
      "[12. 13. 14. 15. 16. 17. 18. 19.]\n"
     ]
    }
   ],
   "source": [
    "#first import numpy and change the name to np for convenience\n",
    "import numpy as np\n",
    "\n",
    "# np.arange(start,stop,step=1) - returns evenly spaced array of numbers\n",
    "# remember, np.arange? will give you details on the function\n",
    "\n",
    "#create an array of ints, from 0 up to (not including) 10\n",
    "a = np.arange(10)\n",
    "print(a)\n",
    "print(a[:3]) #This will print the first three elements of the array\n",
    "\n",
    "#create an array of floats, from 2->10 \n",
    "b = np.arange(2,10.)\n",
    "print(b)\n",
    "#create an array of floats, from 2->10 and then add 10\n",
    "c = np.arange(2,10.) + 10\n",
    "print(c)"
   ]
  },
  {
   "cell_type": "markdown",
   "metadata": {},
   "source": [
    "### Manipulating arrays with numpy."
   ]
  },
  {
   "cell_type": "code",
   "execution_count": 47,
   "metadata": {},
   "outputs": [
    {
     "name": "stdout",
     "output_type": "stream",
     "text": [
      "4.5\n",
      "4.5\n",
      "4.5\n",
      "0\n",
      "9\n",
      "[ 0  1  4  9 16 25 36 49 64 81]\n",
      "[0.66666667 0.75       0.8        0.83333333 0.85714286 0.875\n",
      " 0.88888889 0.9       ]\n",
      "[1.00000000e+00 2.71828183e+00 7.38905610e+00 2.00855369e+01\n",
      " 5.45981500e+01 1.48413159e+02 4.03428793e+02 1.09663316e+03\n",
      " 2.98095799e+03 8.10308393e+03]\n",
      "[0.69314718 1.09861229 1.38629436 1.60943791 1.79175947 1.94591015\n",
      " 2.07944154 2.19722458]\n",
      "[ 0  1  4  9 16 25 36 49 64 81]\n"
     ]
    }
   ],
   "source": [
    "print(np.mean(a)) # use a numpy function to get the mean\n",
    "print(a.mean()) # use a numpy array method to get the mean\n",
    "\n",
    "#here are some other possibilities - you can guess what they do or look up the function\n",
    "print(np.median(a)) # median\n",
    "print(a.min() )# or np.min\n",
    "print(a.max()) # or np.max \n",
    "\n",
    "#Multiplication\n",
    "aa = a*a\n",
    "print(aa)\n",
    "\n",
    "#Division and addition\n",
    "bb = b/(b+1)\n",
    "print(bb)\n",
    "\n",
    "#Exponential and log\n",
    "expon_a=np.exp(a) #Exponential of a\n",
    "print(expon_a)\n",
    "log_b=np.log(b)  #natural log of b\n",
    "print(log_b)\n",
    "\n",
    "#a to the power of 2\n",
    "power_a=a**2\n",
    "print(power_a)"
   ]
  },
  {
   "cell_type": "markdown",
   "metadata": {},
   "source": [
    "### Units and constants from astropy. \n",
    "See https://docs.astropy.org/en/stable/units/index.html for more examples and usage. You don't need to use this for the assignment but once you get the hang of it, it means you can keep track of units a lot more easily."
   ]
  },
  {
   "cell_type": "code",
   "execution_count": 59,
   "metadata": {},
   "outputs": [
    {
     "name": "stdout",
     "output_type": "stream",
     "text": [
      "42.0 m\n",
      "42.0\n",
      "m\n",
      "100.0 cm\n",
      "6.67408e-11\n",
      "m3 / (kg s2)\n"
     ]
    },
    {
     "data": {
      "text/latex": [
       "$1 \\times 10^{-8} \\; \\mathrm{cm}$"
      ],
      "text/plain": [
       "<Quantity 1.e-08 cm>"
      ]
     },
     "execution_count": 59,
     "metadata": {},
     "output_type": "execute_result"
    }
   ],
   "source": [
    "from astropy import units as u\n",
    "from astropy import constants as c\n",
    "\n",
    "distance = 42.0 * u.meter #creates combined value + unit = 'quantity'\n",
    "print(distance)\n",
    "print(distance.value) #extracts just the value from the quantity\n",
    "print(distance.unit) #extracts just the value from the quantity\n",
    "\n",
    "distance = 100 * u.cm\n",
    "print(distance)\n",
    "\n",
    "G = c.G    #Gravitational constant, value + unit = quantity\n",
    "print(G.value)\n",
    "print(G.unit)\n",
    "\n",
    "#Convert units \n",
    "(1*u.angstrom).to(u.cm) #convert 1 angstrom to cm"
   ]
  },
  {
   "cell_type": "markdown",
   "metadata": {},
   "source": [
    "### matplotlib\n",
    "\n",
    "[matplotlib](https://matplotlib.org/) is the standard plotting tool in python. "
   ]
  },
  {
   "cell_type": "code",
   "execution_count": 60,
   "metadata": {},
   "outputs": [
    {
     "data": {
      "image/png": "[encoded data removed]",
      "text/plain": [
       "<Figure size 432x288 with 1 Axes>"
      ]
     },
     "metadata": {
      "needs_background": "light"
     },
     "output_type": "display_data"
    }
   ],
   "source": [
    "#first let's import matplotlib\n",
    "import matplotlib.pyplot as plt\n",
    "\n",
    "\n",
    "#create some arrays to plot\n",
    "x = np.arange(10.)\n",
    "y = [1,2,3,4,5,6,7,8,9,10]\n",
    "\n",
    "#let's make our first plot\n",
    "plt.plot(x,y) # default line plot\n",
    "plt.plot(x,y,'.') # scatter plot\n",
    "plt.plot(x-1,y,'r-',label='Red line') # red line with offset\n",
    "plt.plot(x,0.1*x**2,'go',label='Green dots') # green dots and label text is used in plt.legend() below\n",
    "plt.xlabel('x')\n",
    "plt.ylabel('y')\n",
    "plt.xlabel('X axis (units)')\n",
    "plt.ylabel('Y axis (units)')\n",
    "plt.title('Example Graph')\n",
    "plt.grid(False)\n",
    "plt.text(0,8,'This text starts at x=0 and y=8') #Add text to plot\n",
    "plt.legend() #Comment out to remove legend\n",
    "plt.show()\n",
    "\n"
   ]
  },
  {
   "cell_type": "markdown",
   "metadata": {},
   "source": [
    "### Saving plots\n",
    "\n",
    "To save a plot can use savefig. Note that you can use an absolute path, or relative path. Make sure you can find your figures after you save them!"
   ]
  },
  {
   "cell_type": "code",
   "execution_count": 61,
   "metadata": {},
   "outputs": [
    {
     "data": {
      "text/plain": [
       "<Figure size 432x288 with 0 Axes>"
      ]
     },
     "metadata": {},
     "output_type": "display_data"
    }
   ],
   "source": [
    "#to save a plot can use the savefig command\n",
    "#save in current working directory:\n",
    "plt.savefig('plot1.pdf') #save current plot as pdf\n",
    "#plt.savefig('plot1.png') #save fit as png\n",
    "\n",
    "#provide an absolute path\n",
    "#plt.savefig('/Users/km/Dropbox/PYU33A03/plot1.pdf')\n"
   ]
  },
  {
   "cell_type": "code",
   "execution_count": null,
   "metadata": {},
   "outputs": [],
   "source": []
  },
  {
   "cell_type": "code",
   "execution_count": null,
   "metadata": {},
   "outputs": [],
   "source": []
  }
 ],
 "metadata": {
  "kernelspec": {
   "display_name": "Python 3",
   "language": "python",
   "name": "python3"
  },
  "language_info": {
   "codemirror_mode": {
    "name": "ipython",
    "version": 3
   },
   "file_extension": ".py",
   "mimetype": "text/x-python",
   "name": "python",
   "nbconvert_exporter": "python",
   "pygments_lexer": "ipython3",
   "version": "3.7.3"
  }
 },
 "nbformat": 4,
 "nbformat_minor": 5
}
